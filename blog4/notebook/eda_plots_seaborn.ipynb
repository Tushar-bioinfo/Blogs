{
 "cells": [
  {
   "cell_type": "markdown",
   "id": "100d4e90",
   "metadata": {},
   "source": [
    "# EDA Plot Essentials with Seaborn\n",
    "\n",
    "This notebook shows how to use **Seaborn** for common exploratory plots, with short interpretations and tweak ideas."
   ]
  },
  {
   "cell_type": "markdown",
   "id": "9b464543",
   "metadata": {},
   "source": [
    "## Preview the data"
   ]
  },
  {
   "cell_type": "code",
   "execution_count": null,
   "id": "2efdfefc",
   "metadata": {},
   "outputs": [],
   "source": [
    "import seaborn as sns\n",
    "import matplotlib.pyplot as plt\n",
    "df.head()"
   ]
  },
  {
   "cell_type": "markdown",
   "id": "46a033ea",
   "metadata": {},
   "source": [
    "## Scatter Plot — numeric vs numeric"
   ]
  },
  {
   "cell_type": "code",
   "execution_count": null,
   "id": "2530d53b",
   "metadata": {},
   "outputs": [],
   "source": [
    "sns.scatterplot(data=df, x=\"expr1\", y=\"expr2\", hue=\"treatment\", alpha=0.7)\n",
    "plt.title(\"Scatter: expr1 vs expr2 by treatment\")\n",
    "plt.show()"
   ]
  },
  {
   "cell_type": "markdown",
   "id": "dc4dfb8a",
   "metadata": {},
   "source": [
    "Shows relationship and subgroup shifts (e.g., treatment C moves expr2 up)."
   ]
  },
  {
   "cell_type": "markdown",
   "id": "488c8609",
   "metadata": {},
   "source": [
    "## Box Plot — numeric vs categorical"
   ]
  },
  {
   "cell_type": "code",
   "execution_count": null,
   "id": "ae4cd1b6",
   "metadata": {},
   "outputs": [],
   "source": [
    "sns.boxplot(data=df, x=\"cancer\", y=\"expr1\")\n",
    "plt.title(\"Box: expr1 across cancer\")\n",
    "plt.show()"
   ]
  },
  {
   "cell_type": "markdown",
   "id": "ae474335",
   "metadata": {},
   "source": [
    "Compare medians and spreads across categories. Add swarmplot for raw points."
   ]
  },
  {
   "cell_type": "markdown",
   "id": "1d272e7e",
   "metadata": {},
   "source": [
    "## Count Plot — categorical counts"
   ]
  },
  {
   "cell_type": "code",
   "execution_count": null,
   "id": "efc468e3",
   "metadata": {},
   "outputs": [],
   "source": [
    "sns.countplot(data=df, x=\"treatment\")\n",
    "plt.title(\"Count of treatments\")\n",
    "plt.show()"
   ]
  },
  {
   "cell_type": "markdown",
   "id": "87114d60",
   "metadata": {},
   "source": [
    "Checks class balance. Add `hue` for subgroups."
   ]
  },
  {
   "cell_type": "markdown",
   "id": "ac819863",
   "metadata": {},
   "source": [
    "## Pie Chart — composition (matplotlib)"
   ]
  },
  {
   "cell_type": "code",
   "execution_count": null,
   "id": "52bd4685",
   "metadata": {},
   "outputs": [],
   "source": [
    "df['stage'].value_counts().plot.pie(autopct='%1.1f%%', startangle=90)\n",
    "plt.ylabel(\"\")\n",
    "plt.title(\"Stage composition\")\n",
    "plt.show()"
   ]
  },
  {
   "cell_type": "markdown",
   "id": "4c825e5a",
   "metadata": {},
   "source": [
    "Pie is less precise, but shows proportions quickly."
   ]
  },
  {
   "cell_type": "markdown",
   "id": "9bb6f1ec",
   "metadata": {},
   "source": [
    "## Bar Plot — aggregate numeric by category"
   ]
  },
  {
   "cell_type": "code",
   "execution_count": null,
   "id": "498c8341",
   "metadata": {},
   "outputs": [],
   "source": [
    "sns.barplot(data=df, x=\"treatment\", y=\"score\", estimator=np.mean)\n",
    "plt.title(\"Mean score by treatment\")\n",
    "plt.show()"
   ]
  },
  {
   "cell_type": "markdown",
   "id": "96162c0e",
   "metadata": {},
   "source": [
    "Shows group means with CIs. Switch to boxplot for full distributions."
   ]
  },
  {
   "cell_type": "markdown",
   "id": "ee2257bd",
   "metadata": {},
   "source": [
    "## KDE Plot — numeric distribution"
   ]
  },
  {
   "cell_type": "code",
   "execution_count": null,
   "id": "0c1b73a3",
   "metadata": {},
   "outputs": [],
   "source": [
    "sns.kdeplot(data=df, x=\"expr1\", fill=True)\n",
    "plt.title(\"KDE of expr1\")\n",
    "plt.show()"
   ]
  },
  {
   "cell_type": "markdown",
   "id": "ccaf932b",
   "metadata": {},
   "source": [
    "Reveals distribution shape, peaks, tails. Adjust bandwidth via `bw_adjust`."
   ]
  },
  {
   "cell_type": "markdown",
   "id": "9f3e7e50",
   "metadata": {},
   "source": [
    "## Heatmap — categorical × categorical"
   ]
  },
  {
   "cell_type": "code",
   "execution_count": null,
   "id": "2c4a3a87",
   "metadata": {},
   "outputs": [],
   "source": [
    "ct = pd.crosstab(df['cancer'], df['treatment'])\n",
    "sns.heatmap(ct, annot=True, fmt=\"d\", cmap=\"Blues\")\n",
    "plt.title(\"Cancer × Treatment counts\")\n",
    "plt.show()"
   ]
  },
  {
   "cell_type": "markdown",
   "id": "abce2bbe",
   "metadata": {},
   "source": [
    "Shows frequency combinations; darker = more frequent."
   ]
  },
  {
   "cell_type": "markdown",
   "id": "91e2d579",
   "metadata": {},
   "source": [
    "## Line Plot — numeric vs time"
   ]
  },
  {
   "cell_type": "code",
   "execution_count": null,
   "id": "acc28def",
   "metadata": {},
   "outputs": [],
   "source": [
    "daily = df.groupby(\"date\")[\"expr2\"].mean().reset_index()\n",
    "sns.lineplot(data=daily, x=\"date\", y=\"expr2\")\n",
    "plt.title(\"Daily mean expr2 over time\")\n",
    "plt.show()"
   ]
  },
  {
   "cell_type": "markdown",
   "id": "d077bcce",
   "metadata": {},
   "source": [
    "Tracks trends. Add rolling averages or highlight events."
   ]
  },
  {
   "cell_type": "markdown",
   "id": "77e7758e",
   "metadata": {},
   "source": [
    "## Wrap-up\n",
    "Seaborn simplifies common EDA plots. Pick based on question type: relationship, distribution, composition, or trend."
   ]
  }
 ],
 "metadata": {},
 "nbformat": 4,
 "nbformat_minor": 5
}
